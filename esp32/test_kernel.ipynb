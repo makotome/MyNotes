{
 "cells": [
  {
   "cell_type": "code",
   "execution_count": 1,
   "id": "1e5a6a81",
   "metadata": {},
   "outputs": [
    {
     "name": "stdout",
     "output_type": "stream",
     "text": [
      "Python 版本: 3.13.5 | packaged by Anaconda, Inc. | (main, Jun 12 2025, 11:23:37) [Clang 14.0.6 ]\n",
      "Python 路径: /Users/xumx/miniconda3/envs/my-note-env/bin/python\n"
     ]
    },
    {
     "ename": "ModuleNotFoundError",
     "evalue": "No module named 'numpy'",
     "output_type": "error",
     "traceback": [
      "\u001b[31m---------------------------------------------------------------------------\u001b[39m",
      "\u001b[31mModuleNotFoundError\u001b[39m                       Traceback (most recent call last)",
      "\u001b[36mCell\u001b[39m\u001b[36m \u001b[39m\u001b[32mIn[1]\u001b[39m\u001b[32m, line 7\u001b[39m\n\u001b[32m      4\u001b[39m \u001b[38;5;28mprint\u001b[39m(\u001b[33mf\u001b[39m\u001b[33m\"\u001b[39m\u001b[33mPython 路径: \u001b[39m\u001b[38;5;132;01m{\u001b[39;00msys.executable\u001b[38;5;132;01m}\u001b[39;00m\u001b[33m\"\u001b[39m)\n\u001b[32m      6\u001b[39m \u001b[38;5;66;03m# 测试 numpy\u001b[39;00m\n\u001b[32m----> \u001b[39m\u001b[32m7\u001b[39m \u001b[38;5;28;01mimport\u001b[39;00m\u001b[38;5;250m \u001b[39m\u001b[34;01mnumpy\u001b[39;00m\u001b[38;5;250m \u001b[39m\u001b[38;5;28;01mas\u001b[39;00m\u001b[38;5;250m \u001b[39m\u001b[34;01mnp\u001b[39;00m\n\u001b[32m      8\u001b[39m \u001b[38;5;28mprint\u001b[39m(\u001b[33mf\u001b[39m\u001b[33m\"\u001b[39m\u001b[33mNumPy 版本: \u001b[39m\u001b[38;5;132;01m{\u001b[39;00mnp.__version__\u001b[38;5;132;01m}\u001b[39;00m\u001b[33m\"\u001b[39m)\n\u001b[32m     10\u001b[39m \u001b[38;5;66;03m# 生成一个简单的数组\u001b[39;00m\n",
      "\u001b[31mModuleNotFoundError\u001b[39m: No module named 'numpy'"
     ]
    }
   ],
   "source": [
    "# 测试内核是否正常工作\n",
    "import sys\n",
    "print(f\"Python 版本: {sys.version}\")\n",
    "print(f\"Python 路径: {sys.executable}\")\n",
    "\n",
    "# 测试 numpy\n",
    "import numpy as np\n",
    "print(f\"NumPy 版本: {np.__version__}\")\n",
    "\n",
    "# 生成一个简单的数组\n",
    "arr = np.array([1, 2, 3, 4, 5])\n",
    "print(f\"数组: {arr}\")\n",
    "print(f\"数组类型: {type(arr)}\")\n",
    "\n",
    "print(\"✅ 内核工作正常！\")"
   ]
  }
 ],
 "metadata": {
  "kernelspec": {
   "display_name": "my-note-env",
   "language": "python",
   "name": "python3"
  },
  "language_info": {
   "codemirror_mode": {
    "name": "ipython",
    "version": 3
   },
   "file_extension": ".py",
   "mimetype": "text/x-python",
   "name": "python",
   "nbconvert_exporter": "python",
   "pygments_lexer": "ipython3",
   "version": "3.13.5"
  }
 },
 "nbformat": 4,
 "nbformat_minor": 5
}
